{
 "cells": [
  {
   "cell_type": "code",
   "execution_count": null,
   "metadata": {},
   "outputs": [],
   "source": [
    "import re"
   ]
  },
  {
   "cell_type": "code",
   "execution_count": null,
   "metadata": {},
   "outputs": [],
   "source": [
    "p = re.compile(\"\\[[0-9\\-–\\s,]+\\]\")"
   ]
  },
  {
   "cell_type": "code",
   "execution_count": null,
   "metadata": {},
   "outputs": [],
   "source": [
    "papers = {}\n",
    "\n",
    "with open('2.txt') as f:\n",
    "    for l in f:\n",
    "        number, paper = l.split('] ')\n",
    "        number = int(number[1:])\n",
    "        paper = paper.strip()\n",
    "        papers[number] = paper"
   ]
  },
  {
   "cell_type": "code",
   "execution_count": null,
   "metadata": {},
   "outputs": [],
   "source": [
    "with open('1.txt') as f:\n",
    "    s = f.read()"
   ]
  },
  {
   "cell_type": "code",
   "execution_count": null,
   "metadata": {},
   "outputs": [],
   "source": [
    "all_refs = re.findall(p, s)"
   ]
  },
  {
   "cell_type": "code",
   "execution_count": null,
   "metadata": {},
   "outputs": [],
   "source": [
    "def process(s):\n",
    "    s = s[1:-1]\n",
    "    ranges = map(lambda x: x.strip(), s.split(','))\n",
    "    ans = []\n",
    "    for r in ranges:\n",
    "        r = r.replace('–', '-')\n",
    "        if '-' in r:\n",
    "            first, end = r.split('-')\n",
    "            ans += range(int(first), int(end)+1)\n",
    "        else:\n",
    "            ans.append(int(r))\n",
    "    return ans"
   ]
  },
  {
   "cell_type": "code",
   "execution_count": null,
   "metadata": {},
   "outputs": [],
   "source": [
    "process('[1, 2-3, 5,7-13]')"
   ]
  },
  {
   "cell_type": "code",
   "execution_count": null,
   "metadata": {},
   "outputs": [],
   "source": [
    "unique_refs = []\n",
    "for ref in all_refs:\n",
    "    current_refs = process(ref)\n",
    "    for r in current_refs:\n",
    "        if r not in unique_refs:\n",
    "            unique_refs.append(r)"
   ]
  },
  {
   "cell_type": "code",
   "execution_count": null,
   "metadata": {},
   "outputs": [],
   "source": [
    "unique_refs"
   ]
  },
  {
   "cell_type": "code",
   "execution_count": null,
   "metadata": {},
   "outputs": [],
   "source": [
    "ref_length = len(unique_refs)\n",
    "\n",
    "new_numbers_map = dict(zip(unique_refs, range(1, ref_length+1)))\n",
    "old_numbers_map = dict(zip(range(1, ref_length+1), unique_refs))"
   ]
  },
  {
   "cell_type": "code",
   "execution_count": null,
   "metadata": {},
   "outputs": [],
   "source": [
    "with open('2new.txt', 'w') as f:\n",
    "    for x in range(1, ref_length+1):\n",
    "        f.write(f'[{x}] {papers[old_numbers_map[x]]}\\n')"
   ]
  },
  {
   "cell_type": "code",
   "execution_count": null,
   "metadata": {},
   "outputs": [],
   "source": [
    "split_text = re.split(p, s)"
   ]
  },
  {
   "cell_type": "code",
   "execution_count": null,
   "metadata": {},
   "outputs": [],
   "source": [
    "def format_refs(l):\n",
    "    l = sorted(l)\n",
    "    i = 0\n",
    "    ans = []\n",
    "    while i < len(l):\n",
    "        icur = i\n",
    "        while i < len(l) - 1 and l[i+1] == l[i] + 1:\n",
    "            i += 1\n",
    "        if i == icur:\n",
    "            ans.append(str(l[i]))\n",
    "        else:\n",
    "            if i - icur == 1:\n",
    "                ans.append(str(l[icur]))\n",
    "                ans.append(str(l[i]))\n",
    "            else:\n",
    "                ans.append(str(l[icur]) + '-' + str(l[i]))\n",
    "        i += 1\n",
    "    return '[' + ','.join(ans) + ']'"
   ]
  },
  {
   "cell_type": "code",
   "execution_count": null,
   "metadata": {},
   "outputs": [],
   "source": [
    "format_refs([1, 3, 4, 5, 8, 15, 2])"
   ]
  },
  {
   "cell_type": "code",
   "execution_count": null,
   "metadata": {},
   "outputs": [],
   "source": [
    "printed_text = ''\n",
    "for i in range(len(all_refs)):\n",
    "    printed_text += split_text[i]\n",
    "    reflist = process(all_refs[i])\n",
    "    printed_text += format_refs(map(lambda x: new_numbers_map[x], reflist))\n",
    "printed_text += split_text[-1]"
   ]
  },
  {
   "cell_type": "code",
   "execution_count": null,
   "metadata": {},
   "outputs": [],
   "source": [
    "with open('1new.txt', 'w') as f:\n",
    "    f.write(printed_text)"
   ]
  },
  {
   "cell_type": "code",
   "execution_count": null,
   "metadata": {},
   "outputs": [],
   "source": []
  }
 ],
 "metadata": {
  "kernelspec": {
   "display_name": "Python 3",
   "language": "python",
   "name": "python3"
  },
  "language_info": {
   "codemirror_mode": {
    "name": "ipython",
    "version": 3
   },
   "file_extension": ".py",
   "mimetype": "text/x-python",
   "name": "python",
   "nbconvert_exporter": "python",
   "pygments_lexer": "ipython3",
   "version": "3.6.3"
  }
 },
 "nbformat": 4,
 "nbformat_minor": 2
}
